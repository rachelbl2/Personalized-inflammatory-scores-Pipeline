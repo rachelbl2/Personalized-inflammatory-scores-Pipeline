{
 "cells": [
  {
   "cell_type": "code",
   "execution_count": 1,
   "metadata": {
    "collapsed": true
   },
   "outputs": [],
   "source": [
    "import matplotlib.pyplot as plt\n",
    "import pandas as pd\n",
    "import seaborn as sns\n",
    "import states_pipeline\n",
    "from scipy import stats"
   ]
  },
  {
   "cell_type": "markdown",
   "source": [
    "### Running example - S. aureus expression data set\n",
    "\n",
    "The data set used in this example was taken from https://www.ncbi.nlm.nih.gov/geo/query/acc.cgi?acc=GSE16129\n",
    "all the files used are in the example folder"
   ],
   "metadata": {
    "collapsed": false,
    "pycharm": {
     "name": "#%% md\n"
    }
   }
  },
  {
   "cell_type": "markdown",
   "source": [
    "#### Step 1\n",
    "\n",
    "Reading the data files and formatting as a valid input for the pipeline"
   ],
   "metadata": {
    "collapsed": false,
    "pycharm": {
     "name": "#%% md\n"
    }
   }
  },
  {
   "cell_type": "code",
   "execution_count": 2,
   "outputs": [],
   "source": [
    "expression_table = pd.read_csv('example/s aureus expression.csv',index_col=0)"
   ],
   "metadata": {
    "collapsed": false,
    "pycharm": {
     "name": "#%%\n"
    }
   }
  },
  {
   "cell_type": "markdown",
   "source": [
    "Create a list of controls\n",
    "\n",
    "*Note that the control list should match the columns format\n"
   ],
   "metadata": {
    "collapsed": false,
    "pycharm": {
     "name": "#%% md\n"
    }
   }
  },
  {
   "cell_type": "code",
   "execution_count": 3,
   "outputs": [],
   "source": [
    "individuals = pd.read_csv('example/individuals_info.csv',index_col=0)"
   ],
   "metadata": {
    "collapsed": false,
    "pycharm": {
     "name": "#%%\n"
    }
   }
  },
  {
   "cell_type": "code",
   "execution_count": 4,
   "outputs": [
    {
     "data": {
      "text/plain": "PBMC Healthy Control INF 11N HG-U133A    GSM403284\nPBMC Healthy Control INF 23N HG-U133A    GSM403304\nPBMC Healthy Control INF 24N HG-U133A    GSM403312\nPBMC Healthy Control INF 294 HG-U133A    GSM403322\nPBMC Healthy Control INF 301 HG-U133A    GSM403326\nPBMC Healthy Control INF 303 HG-U133A    GSM403328\nPBMC Healthy Control INF 304 HG-U133A    GSM403330\nPBMC Healthy Control INF 3N HG-U133A     GSM403411\nPBMC Healthy Control INF 7N HG-U133A     GSM403546\nPBMC Healthy Control INF 8N HG-U133A     GSM403551\nName: !Sample_geo_accession, dtype: object"
     },
     "execution_count": 4,
     "metadata": {},
     "output_type": "execute_result"
    }
   ],
   "source": [
    "control_individuals = individuals[individuals['!Sample_source_name_ch1'] == 'PBMC_Healthy']['!Sample_geo_accession']\n",
    "control_individuals #list of control individuals"
   ],
   "metadata": {
    "collapsed": false,
    "pycharm": {
     "name": "#%%\n"
    }
   }
  },
  {
   "cell_type": "markdown",
   "source": [
    "*In this example, the controls are healthy individuals but you can use any group of individuals you want the states to be centered based on. For example: time 0 in time series data or patients who did not take any drug\n"
   ],
   "metadata": {
    "collapsed": false,
    "pycharm": {
     "name": "#%% md\n"
    }
   }
  },
  {
   "cell_type": "markdown",
   "source": [
    "#### Step 2: read the maps"
   ],
   "metadata": {
    "collapsed": false,
    "pycharm": {
     "name": "#%% md\n"
    }
   }
  },
  {
   "cell_type": "code",
   "execution_count": 5,
   "outputs": [],
   "source": [
    "T_R_map = pd.read_csv('resistance_tolerance_map.csv',index_col=0)\n",
    "mets_SI_map = pd.read_csv('MetS_systemic_inflammation_map.csv',index_col=0)"
   ],
   "metadata": {
    "collapsed": false,
    "pycharm": {
     "name": "#%%\n"
    }
   }
  },
  {
   "cell_type": "markdown",
   "source": [
    "#### Step 3: data preprocessing"
   ],
   "metadata": {
    "collapsed": false,
    "pycharm": {
     "name": "#%% md\n"
    }
   }
  },
  {
   "cell_type": "code",
   "execution_count": 6,
   "outputs": [],
   "source": [
    "expression_df = states_pipeline.expression_preproccesing(expression_table,control_individuals)"
   ],
   "metadata": {
    "collapsed": false,
    "pycharm": {
     "name": "#%%\n"
    }
   }
  },
  {
   "cell_type": "markdown",
   "source": [
    "### Step 4: states calculation"
   ],
   "metadata": {
    "collapsed": false,
    "pycharm": {
     "name": "#%% md\n"
    }
   }
  },
  {
   "cell_type": "code",
   "execution_count": 7,
   "outputs": [],
   "source": [
    "r_t_states = states_pipeline.states_df(T_R_map,'T','R',expression_df)\n",
    "mets_si_states = states_pipeline.states_df(mets_SI_map,'MetS','SI',expression_df)\n",
    "full_states_table = r_t_states.join(mets_si_states)"
   ],
   "metadata": {
    "collapsed": false,
    "pycharm": {
     "name": "#%%\n"
    }
   }
  },
  {
   "cell_type": "markdown",
   "source": [
    "lets see what we got"
   ],
   "metadata": {
    "collapsed": false,
    "pycharm": {
     "name": "#%% md\n"
    }
   }
  },
  {
   "cell_type": "code",
   "execution_count": 8,
   "outputs": [
    {
     "data": {
      "text/plain": "             T state   R state        pval T        pval R  const T R map  \\\nindividual                                                                  \nGSM403282   0.970590 -0.014223  1.374340e-07  2.340323e-80      -0.067617   \nGSM403284   0.360855 -0.131939  3.664863e-03  1.139160e-27       0.024270   \nGSM403286   1.545399  0.022305  8.962615e-13  1.528181e-54      -0.178819   \nGSM403288   1.093879  1.009495  6.115751e-05  1.724262e-34      -0.090279   \nGSM403290   1.311292  0.926360  5.944721e-04  2.525650e-47      -0.078476   \n\n            MetS state  SI state     pval MetS       pval SI  \\\nindividual                                                     \nGSM403282     0.000665  0.034345  3.237093e-19  8.354465e-01   \nGSM403284     0.015036 -0.010186  1.046635e-06  4.533459e-14   \nGSM403286     0.016462  0.117756  6.034198e-87  7.595334e-03   \nGSM403288     0.000670  0.102322  9.711531e-40  9.063974e-01   \nGSM403290     0.011984  0.144313  4.893973e-30  3.011190e-02   \n\n            const MetS SI map  \nindividual                     \nGSM403282           -0.140356  \nGSM403284            0.047464  \nGSM403286           -0.601964  \nGSM403288           -0.368695  \nGSM403290           -0.308376  ",
      "text/html": "<div>\n<style scoped>\n    .dataframe tbody tr th:only-of-type {\n        vertical-align: middle;\n    }\n\n    .dataframe tbody tr th {\n        vertical-align: top;\n    }\n\n    .dataframe thead th {\n        text-align: right;\n    }\n</style>\n<table border=\"1\" class=\"dataframe\">\n  <thead>\n    <tr style=\"text-align: right;\">\n      <th></th>\n      <th>T state</th>\n      <th>R state</th>\n      <th>pval T</th>\n      <th>pval R</th>\n      <th>const T R map</th>\n      <th>MetS state</th>\n      <th>SI state</th>\n      <th>pval MetS</th>\n      <th>pval SI</th>\n      <th>const MetS SI map</th>\n    </tr>\n    <tr>\n      <th>individual</th>\n      <th></th>\n      <th></th>\n      <th></th>\n      <th></th>\n      <th></th>\n      <th></th>\n      <th></th>\n      <th></th>\n      <th></th>\n      <th></th>\n    </tr>\n  </thead>\n  <tbody>\n    <tr>\n      <th>GSM403282</th>\n      <td>0.970590</td>\n      <td>-0.014223</td>\n      <td>1.374340e-07</td>\n      <td>2.340323e-80</td>\n      <td>-0.067617</td>\n      <td>0.000665</td>\n      <td>0.034345</td>\n      <td>3.237093e-19</td>\n      <td>8.354465e-01</td>\n      <td>-0.140356</td>\n    </tr>\n    <tr>\n      <th>GSM403284</th>\n      <td>0.360855</td>\n      <td>-0.131939</td>\n      <td>3.664863e-03</td>\n      <td>1.139160e-27</td>\n      <td>0.024270</td>\n      <td>0.015036</td>\n      <td>-0.010186</td>\n      <td>1.046635e-06</td>\n      <td>4.533459e-14</td>\n      <td>0.047464</td>\n    </tr>\n    <tr>\n      <th>GSM403286</th>\n      <td>1.545399</td>\n      <td>0.022305</td>\n      <td>8.962615e-13</td>\n      <td>1.528181e-54</td>\n      <td>-0.178819</td>\n      <td>0.016462</td>\n      <td>0.117756</td>\n      <td>6.034198e-87</td>\n      <td>7.595334e-03</td>\n      <td>-0.601964</td>\n    </tr>\n    <tr>\n      <th>GSM403288</th>\n      <td>1.093879</td>\n      <td>1.009495</td>\n      <td>6.115751e-05</td>\n      <td>1.724262e-34</td>\n      <td>-0.090279</td>\n      <td>0.000670</td>\n      <td>0.102322</td>\n      <td>9.711531e-40</td>\n      <td>9.063974e-01</td>\n      <td>-0.368695</td>\n    </tr>\n    <tr>\n      <th>GSM403290</th>\n      <td>1.311292</td>\n      <td>0.926360</td>\n      <td>5.944721e-04</td>\n      <td>2.525650e-47</td>\n      <td>-0.078476</td>\n      <td>0.011984</td>\n      <td>0.144313</td>\n      <td>4.893973e-30</td>\n      <td>3.011190e-02</td>\n      <td>-0.308376</td>\n    </tr>\n  </tbody>\n</table>\n</div>"
     },
     "execution_count": 8,
     "metadata": {},
     "output_type": "execute_result"
    }
   ],
   "source": [
    "full_states_table.head()"
   ],
   "metadata": {
    "collapsed": false,
    "pycharm": {
     "name": "#%%\n"
    }
   }
  },
  {
   "cell_type": "markdown",
   "source": [
    "This is the states table for the T/R map and the MetS SI map with the corresponding p values. you can see how the calculation was done in the function state_pipline.states_df"
   ],
   "metadata": {
    "collapsed": false,
    "pycharm": {
     "name": "#%% md\n"
    }
   }
  },
  {
   "cell_type": "markdown",
   "source": [
    "#### Step 5: Standartization of the calculated levels based on the controls\n",
    "\n",
    "This is an important step so that you could compare states for different maps (like SI and R later in the pipeline) and also to compare states from different data sets\n"
   ],
   "metadata": {
    "collapsed": false,
    "pycharm": {
     "name": "#%% md\n"
    }
   }
  },
  {
   "cell_type": "code",
   "execution_count": 9,
   "outputs": [],
   "source": [
    "full_states_table = states_pipeline.norm_all_states(full_states_table,control_individuals)"
   ],
   "metadata": {
    "collapsed": false,
    "pycharm": {
     "name": "#%%\n"
    }
   }
  },
  {
   "cell_type": "markdown",
   "source": [
    "#### Step 6: R/SI balance score calculation"
   ],
   "metadata": {
    "collapsed": false
   }
  },
  {
   "cell_type": "code",
   "execution_count": 10,
   "outputs": [],
   "source": [
    "full_states_table = states_pipeline.R_SI_balance_score(full_states_table)"
   ],
   "metadata": {
    "collapsed": false,
    "pycharm": {
     "name": "#%%\n"
    }
   }
  },
  {
   "cell_type": "markdown",
   "source": [
    "Now we have the final results. lets take a look:"
   ],
   "metadata": {
    "collapsed": false,
    "pycharm": {
     "name": "#%% md\n"
    }
   }
  },
  {
   "cell_type": "code",
   "execution_count": 11,
   "outputs": [
    {
     "data": {
      "text/plain": "                                        T state   R state        pval T  \\\nPBMC S. aureus INF 109 HG-U133A        1.874971 -0.070304  1.374340e-07   \nPBMC Healthy Control INF 11N HG-U133A  0.697094 -0.652146  3.664863e-03   \nPBMC S. aureus INF 150 HG-U133A        2.985380  0.110248  8.962615e-13   \nPBMC S. aureus INF 179 HG-U133A        2.113140  4.989735  6.115751e-05   \nPBMC S. aureus INF 205 HG-U133A        2.533135  4.578816  5.944721e-04   \n\n                                             pval R  const T R map  \\\nPBMC S. aureus INF 109 HG-U133A        2.340323e-80      -0.067617   \nPBMC Healthy Control INF 11N HG-U133A  1.139160e-27       0.024270   \nPBMC S. aureus INF 150 HG-U133A        1.528181e-54      -0.178819   \nPBMC S. aureus INF 179 HG-U133A        1.724262e-34      -0.090279   \nPBMC S. aureus INF 205 HG-U133A        2.525650e-47      -0.078476   \n\n                                       MetS state  SI state     pval MetS  \\\nPBMC S. aureus INF 109 HG-U133A          0.030162  1.721609  3.237093e-19   \nPBMC Healthy Control INF 11N HG-U133A    0.682180 -0.510587  1.046635e-06   \nPBMC S. aureus INF 150 HG-U133A          0.746839  5.902807  6.034198e-87   \nPBMC S. aureus INF 179 HG-U133A          0.030377  5.129144  9.711531e-40   \nPBMC S. aureus INF 205 HG-U133A          0.543712  7.234080  4.893973e-30   \n\n                                            pval SI  const MetS SI map  ...  \\\nPBMC S. aureus INF 109 HG-U133A        8.354465e-01          -0.140356  ...   \nPBMC Healthy Control INF 11N HG-U133A  4.533459e-14           0.047464  ...   \nPBMC S. aureus INF 150 HG-U133A        7.595334e-03          -0.601964  ...   \nPBMC S. aureus INF 179 HG-U133A        9.063974e-01          -0.368695  ...   \nPBMC S. aureus INF 205 HG-U133A        3.011190e-02          -0.308376  ...   \n\n                                                  !Sample_contact_email  \\\nPBMC S. aureus INF 109 HG-U133A        DChaussabel@benaroyaresearch.org   \nPBMC Healthy Control INF 11N HG-U133A  DChaussabel@benaroyaresearch.org   \nPBMC S. aureus INF 150 HG-U133A        DChaussabel@benaroyaresearch.org   \nPBMC S. aureus INF 179 HG-U133A        DChaussabel@benaroyaresearch.org   \nPBMC S. aureus INF 205 HG-U133A        DChaussabel@benaroyaresearch.org   \n\n                                                      !Sample_contact_institute  \\\nPBMC S. aureus INF 109 HG-U133A        Baylor Institute for Immunology Research   \nPBMC Healthy Control INF 11N HG-U133A  Baylor Institute for Immunology Research   \nPBMC S. aureus INF 150 HG-U133A        Baylor Institute for Immunology Research   \nPBMC S. aureus INF 179 HG-U133A        Baylor Institute for Immunology Research   \nPBMC S. aureus INF 205 HG-U133A        Baylor Institute for Immunology Research   \n\n                                      !Sample_contact_address  \\\nPBMC S. aureus INF 109 HG-U133A                 3434 Live Oak   \nPBMC Healthy Control INF 11N HG-U133A           3434 Live Oak   \nPBMC S. aureus INF 150 HG-U133A                 3434 Live Oak   \nPBMC S. aureus INF 179 HG-U133A                 3434 Live Oak   \nPBMC S. aureus INF 205 HG-U133A                 3434 Live Oak   \n\n                                      !Sample_contact_city  \\\nPBMC S. aureus INF 109 HG-U133A                     Dallas   \nPBMC Healthy Control INF 11N HG-U133A               Dallas   \nPBMC S. aureus INF 150 HG-U133A                     Dallas   \nPBMC S. aureus INF 179 HG-U133A                     Dallas   \nPBMC S. aureus INF 205 HG-U133A                     Dallas   \n\n                                      !Sample_contact_state  \\\nPBMC S. aureus INF 109 HG-U133A                          TX   \nPBMC Healthy Control INF 11N HG-U133A                    TX   \nPBMC S. aureus INF 150 HG-U133A                          TX   \nPBMC S. aureus INF 179 HG-U133A                          TX   \nPBMC S. aureus INF 205 HG-U133A                          TX   \n\n                                      !Sample_contact_zip/postal_code  \\\nPBMC S. aureus INF 109 HG-U133A                                 75204   \nPBMC Healthy Control INF 11N HG-U133A                           75204   \nPBMC S. aureus INF 150 HG-U133A                                 75204   \nPBMC S. aureus INF 179 HG-U133A                                 75204   \nPBMC S. aureus INF 205 HG-U133A                                 75204   \n\n                                      !Sample_contact_country  \\\nPBMC S. aureus INF 109 HG-U133A                           USA   \nPBMC Healthy Control INF 11N HG-U133A                     USA   \nPBMC S. aureus INF 150 HG-U133A                           USA   \nPBMC S. aureus INF 179 HG-U133A                           USA   \nPBMC S. aureus INF 205 HG-U133A                           USA   \n\n                                                              !Sample_supplementary_file  \\\nPBMC S. aureus INF 109 HG-U133A        ftp://ftp.ncbi.nlm.nih.gov/geo/samples/GSM403n...   \nPBMC Healthy Control INF 11N HG-U133A  ftp://ftp.ncbi.nlm.nih.gov/geo/samples/GSM403n...   \nPBMC S. aureus INF 150 HG-U133A        ftp://ftp.ncbi.nlm.nih.gov/geo/samples/GSM403n...   \nPBMC S. aureus INF 179 HG-U133A        ftp://ftp.ncbi.nlm.nih.gov/geo/samples/GSM403n...   \nPBMC S. aureus INF 205 HG-U133A        ftp://ftp.ncbi.nlm.nih.gov/geo/samples/GSM403n...   \n\n                                      !Sample_data_row_count  \\\nPBMC S. aureus INF 109 HG-U133A                        22283   \nPBMC Healthy Control INF 11N HG-U133A                  22283   \nPBMC S. aureus INF 150 HG-U133A                        22283   \nPBMC S. aureus INF 179 HG-U133A                        22283   \nPBMC S. aureus INF 205 HG-U133A                        22283   \n\n                                               !Sample_relation  \nPBMC S. aureus INF 109 HG-U133A        Reanalyzed by: GSE122505  \nPBMC Healthy Control INF 11N HG-U133A  Reanalyzed by: GSE122505  \nPBMC S. aureus INF 150 HG-U133A        Reanalyzed by: GSE122505  \nPBMC S. aureus INF 179 HG-U133A        Reanalyzed by: GSE122505  \nPBMC S. aureus INF 205 HG-U133A        Reanalyzed by: GSE122505  \n\n[5 rows x 46 columns]",
      "text/html": "<div>\n<style scoped>\n    .dataframe tbody tr th:only-of-type {\n        vertical-align: middle;\n    }\n\n    .dataframe tbody tr th {\n        vertical-align: top;\n    }\n\n    .dataframe thead th {\n        text-align: right;\n    }\n</style>\n<table border=\"1\" class=\"dataframe\">\n  <thead>\n    <tr style=\"text-align: right;\">\n      <th></th>\n      <th>T state</th>\n      <th>R state</th>\n      <th>pval T</th>\n      <th>pval R</th>\n      <th>const T R map</th>\n      <th>MetS state</th>\n      <th>SI state</th>\n      <th>pval MetS</th>\n      <th>pval SI</th>\n      <th>const MetS SI map</th>\n      <th>...</th>\n      <th>!Sample_contact_email</th>\n      <th>!Sample_contact_institute</th>\n      <th>!Sample_contact_address</th>\n      <th>!Sample_contact_city</th>\n      <th>!Sample_contact_state</th>\n      <th>!Sample_contact_zip/postal_code</th>\n      <th>!Sample_contact_country</th>\n      <th>!Sample_supplementary_file</th>\n      <th>!Sample_data_row_count</th>\n      <th>!Sample_relation</th>\n    </tr>\n  </thead>\n  <tbody>\n    <tr>\n      <th>PBMC S. aureus INF 109 HG-U133A</th>\n      <td>1.874971</td>\n      <td>-0.070304</td>\n      <td>1.374340e-07</td>\n      <td>2.340323e-80</td>\n      <td>-0.067617</td>\n      <td>0.030162</td>\n      <td>1.721609</td>\n      <td>3.237093e-19</td>\n      <td>8.354465e-01</td>\n      <td>-0.140356</td>\n      <td>...</td>\n      <td>DChaussabel@benaroyaresearch.org</td>\n      <td>Baylor Institute for Immunology Research</td>\n      <td>3434 Live Oak</td>\n      <td>Dallas</td>\n      <td>TX</td>\n      <td>75204</td>\n      <td>USA</td>\n      <td>ftp://ftp.ncbi.nlm.nih.gov/geo/samples/GSM403n...</td>\n      <td>22283</td>\n      <td>Reanalyzed by: GSE122505</td>\n    </tr>\n    <tr>\n      <th>PBMC Healthy Control INF 11N HG-U133A</th>\n      <td>0.697094</td>\n      <td>-0.652146</td>\n      <td>3.664863e-03</td>\n      <td>1.139160e-27</td>\n      <td>0.024270</td>\n      <td>0.682180</td>\n      <td>-0.510587</td>\n      <td>1.046635e-06</td>\n      <td>4.533459e-14</td>\n      <td>0.047464</td>\n      <td>...</td>\n      <td>DChaussabel@benaroyaresearch.org</td>\n      <td>Baylor Institute for Immunology Research</td>\n      <td>3434 Live Oak</td>\n      <td>Dallas</td>\n      <td>TX</td>\n      <td>75204</td>\n      <td>USA</td>\n      <td>ftp://ftp.ncbi.nlm.nih.gov/geo/samples/GSM403n...</td>\n      <td>22283</td>\n      <td>Reanalyzed by: GSE122505</td>\n    </tr>\n    <tr>\n      <th>PBMC S. aureus INF 150 HG-U133A</th>\n      <td>2.985380</td>\n      <td>0.110248</td>\n      <td>8.962615e-13</td>\n      <td>1.528181e-54</td>\n      <td>-0.178819</td>\n      <td>0.746839</td>\n      <td>5.902807</td>\n      <td>6.034198e-87</td>\n      <td>7.595334e-03</td>\n      <td>-0.601964</td>\n      <td>...</td>\n      <td>DChaussabel@benaroyaresearch.org</td>\n      <td>Baylor Institute for Immunology Research</td>\n      <td>3434 Live Oak</td>\n      <td>Dallas</td>\n      <td>TX</td>\n      <td>75204</td>\n      <td>USA</td>\n      <td>ftp://ftp.ncbi.nlm.nih.gov/geo/samples/GSM403n...</td>\n      <td>22283</td>\n      <td>Reanalyzed by: GSE122505</td>\n    </tr>\n    <tr>\n      <th>PBMC S. aureus INF 179 HG-U133A</th>\n      <td>2.113140</td>\n      <td>4.989735</td>\n      <td>6.115751e-05</td>\n      <td>1.724262e-34</td>\n      <td>-0.090279</td>\n      <td>0.030377</td>\n      <td>5.129144</td>\n      <td>9.711531e-40</td>\n      <td>9.063974e-01</td>\n      <td>-0.368695</td>\n      <td>...</td>\n      <td>DChaussabel@benaroyaresearch.org</td>\n      <td>Baylor Institute for Immunology Research</td>\n      <td>3434 Live Oak</td>\n      <td>Dallas</td>\n      <td>TX</td>\n      <td>75204</td>\n      <td>USA</td>\n      <td>ftp://ftp.ncbi.nlm.nih.gov/geo/samples/GSM403n...</td>\n      <td>22283</td>\n      <td>Reanalyzed by: GSE122505</td>\n    </tr>\n    <tr>\n      <th>PBMC S. aureus INF 205 HG-U133A</th>\n      <td>2.533135</td>\n      <td>4.578816</td>\n      <td>5.944721e-04</td>\n      <td>2.525650e-47</td>\n      <td>-0.078476</td>\n      <td>0.543712</td>\n      <td>7.234080</td>\n      <td>4.893973e-30</td>\n      <td>3.011190e-02</td>\n      <td>-0.308376</td>\n      <td>...</td>\n      <td>DChaussabel@benaroyaresearch.org</td>\n      <td>Baylor Institute for Immunology Research</td>\n      <td>3434 Live Oak</td>\n      <td>Dallas</td>\n      <td>TX</td>\n      <td>75204</td>\n      <td>USA</td>\n      <td>ftp://ftp.ncbi.nlm.nih.gov/geo/samples/GSM403n...</td>\n      <td>22283</td>\n      <td>Reanalyzed by: GSE122505</td>\n    </tr>\n  </tbody>\n</table>\n<p>5 rows × 46 columns</p>\n</div>"
     },
     "execution_count": 11,
     "metadata": {},
     "output_type": "execute_result"
    }
   ],
   "source": [
    "full_states_table = pd.merge(full_states_table,individuals,left_index=True,right_on='!Sample_geo_accession')\n",
    "full_states_table.head()"
   ],
   "metadata": {
    "collapsed": false,
    "pycharm": {
     "name": "#%%\n"
    }
   }
  },
  {
   "cell_type": "markdown",
   "source": [
    "Now you can use your R/SI final score for some downstream analysis"
   ],
   "metadata": {
    "collapsed": false,
    "pycharm": {
     "name": "#%% md\n"
    }
   }
  },
  {
   "cell_type": "code",
   "execution_count": 12,
   "outputs": [
    {
     "data": {
      "text/plain": "<AxesSubplot: xlabel='!Sample_source_name_ch1', ylabel='R/SI balance score'>"
     },
     "execution_count": 12,
     "metadata": {},
     "output_type": "execute_result"
    },
    {
     "data": {
      "text/plain": "<Figure size 1200x400 with 3 Axes>",
      "image/png": "[encoded data removed]"
     },
     "metadata": {},
     "output_type": "display_data"
    }
   ],
   "source": [
    "fig,(ax1,ax2,ax3) = plt.subplots(1,3,figsize = (12,4))\n",
    "sns.boxplot(data = full_states_table,y='SI state',x='!Sample_source_name_ch1',ax=ax1,order = ('PBMC_Healthy','PBMC_S.aureus')) #box plot the SI state of healthy controls and in s aureus patients\n",
    "sns.boxplot(data = full_states_table,y='R state',x='!Sample_source_name_ch1',ax=ax2,order = ('PBMC_Healthy','PBMC_S.aureus')) #box plot the R state of healthy controls and in s aureus patients\n",
    "sns.boxplot(data = full_states_table,y='R/SI balance score',x='!Sample_source_name_ch1',ax=ax3,order = ('PBMC_Healthy','PBMC_S.aureus')) #box plot the R/SI balance score of healthy controls and in s aureus patient"
   ],
   "metadata": {
    "collapsed": false,
    "pycharm": {
     "name": "#%%\n"
    }
   }
  },
  {
   "cell_type": "code",
   "execution_count": 13,
   "outputs": [],
   "source": [
    "sick_states =full_states_table[full_states_table['!Sample_source_name_ch1'] == 'PBMC_S.aureus']\n",
    "healthy_states =full_states_table[full_states_table['!Sample_source_name_ch1'] == 'PBMC_Healthy']"
   ],
   "metadata": {
    "collapsed": false,
    "pycharm": {
     "name": "#%%\n"
    }
   }
  },
  {
   "cell_type": "markdown",
   "source": [
    "differential SI,R and R/SI balance score  (sick vs healthy individuals)"
   ],
   "metadata": {
    "collapsed": false,
    "pycharm": {
     "name": "#%% md\n"
    }
   }
  },
  {
   "cell_type": "code",
   "execution_count": 14,
   "outputs": [
    {
     "data": {
      "text/plain": "Ttest_indResult(statistic=5.9176000357840515, pvalue=2.3110137832428907e-07)"
     },
     "execution_count": 14,
     "metadata": {},
     "output_type": "execute_result"
    }
   ],
   "source": [
    "stats.ttest_ind(sick_states['SI state'],healthy_states['SI state'])"
   ],
   "metadata": {
    "collapsed": false,
    "pycharm": {
     "name": "#%%\n"
    }
   }
  },
  {
   "cell_type": "code",
   "execution_count": 15,
   "outputs": [
    {
     "data": {
      "text/plain": "Ttest_indResult(statistic=5.639918840282906, pvalue=6.400184913458083e-07)"
     },
     "execution_count": 15,
     "metadata": {},
     "output_type": "execute_result"
    }
   ],
   "source": [
    "stats.ttest_ind(sick_states['R state'],healthy_states['R state'])"
   ],
   "metadata": {
    "collapsed": false,
    "pycharm": {
     "name": "#%%\n"
    }
   }
  },
  {
   "cell_type": "code",
   "execution_count": 16,
   "outputs": [
    {
     "data": {
      "text/plain": "Ttest_indResult(statistic=-0.3876076055888322, pvalue=0.6998300884703385)"
     },
     "execution_count": 16,
     "metadata": {},
     "output_type": "execute_result"
    }
   ],
   "source": [
    "stats.ttest_ind(sick_states['R/SI balance score'],healthy_states['R/SI balance score'])"
   ],
   "metadata": {
    "collapsed": false,
    "pycharm": {
     "name": "#%%\n"
    }
   }
  },
  {
   "cell_type": "markdown",
   "source": [
    "Here i did a simple analysis to compare the SI state, R state and R/SI balance score of healthy and sick individuals"
   ],
   "metadata": {
    "collapsed": false,
    "pycharm": {
     "name": "#%% md\n"
    }
   }
  },
  {
   "cell_type": "markdown",
   "source": [
    "#### Run the full pipeline\n",
    "\n",
    "In this example ran the pipeline step by step to show how to use it flexibly (now you can use the states calculation on a different gene maps).\n",
    "If you want to run the full pipeline easily you can simply use the function: full_R_SI_score_pipeline(expression_table,control_individuals) as follows:"
   ],
   "metadata": {
    "collapsed": false,
    "pycharm": {
     "name": "#%% md\n"
    }
   }
  },
  {
   "cell_type": "code",
   "execution_count": 17,
   "outputs": [
    {
     "data": {
      "text/plain": "             T state   R state        pval T        pval R  const T R map  \\\nindividual                                                                  \nGSM403282   1.874971 -0.070304  1.374340e-07  2.340323e-80      -0.067617   \nGSM403284   0.697094 -0.652146  3.664863e-03  1.139160e-27       0.024270   \nGSM403286   2.985380  0.110248  8.962615e-13  1.528181e-54      -0.178819   \nGSM403288   2.113140  4.989735  6.115751e-05  1.724262e-34      -0.090279   \nGSM403290   2.533135  4.578816  5.944721e-04  2.525650e-47      -0.078476   \n\n            MetS state  SI state     pval MetS       pval SI  \\\nindividual                                                     \nGSM403282     0.030162  1.721609  3.237093e-19  8.354465e-01   \nGSM403284     0.682180 -0.510587  1.046635e-06  4.533459e-14   \nGSM403286     0.746839  5.902807  6.034198e-87  7.595334e-03   \nGSM403288     0.030377  5.129144  9.711531e-40  9.063974e-01   \nGSM403290     0.543712  7.234080  4.893973e-30  3.011190e-02   \n\n            const MetS SI map  R/SI balance score  \nindividual                                         \nGSM403282           -0.140356           -1.791913  \nGSM403284            0.047464           -0.141559  \nGSM403286           -0.601964           -5.792559  \nGSM403288           -0.368695           -0.139408  \nGSM403290           -0.308376           -2.655265  ",
      "text/html": "<div>\n<style scoped>\n    .dataframe tbody tr th:only-of-type {\n        vertical-align: middle;\n    }\n\n    .dataframe tbody tr th {\n        vertical-align: top;\n    }\n\n    .dataframe thead th {\n        text-align: right;\n    }\n</style>\n<table border=\"1\" class=\"dataframe\">\n  <thead>\n    <tr style=\"text-align: right;\">\n      <th></th>\n      <th>T state</th>\n      <th>R state</th>\n      <th>pval T</th>\n      <th>pval R</th>\n      <th>const T R map</th>\n      <th>MetS state</th>\n      <th>SI state</th>\n      <th>pval MetS</th>\n      <th>pval SI</th>\n      <th>const MetS SI map</th>\n      <th>R/SI balance score</th>\n    </tr>\n    <tr>\n      <th>individual</th>\n      <th></th>\n      <th></th>\n      <th></th>\n      <th></th>\n      <th></th>\n      <th></th>\n      <th></th>\n      <th></th>\n      <th></th>\n      <th></th>\n      <th></th>\n    </tr>\n  </thead>\n  <tbody>\n    <tr>\n      <th>GSM403282</th>\n      <td>1.874971</td>\n      <td>-0.070304</td>\n      <td>1.374340e-07</td>\n      <td>2.340323e-80</td>\n      <td>-0.067617</td>\n      <td>0.030162</td>\n      <td>1.721609</td>\n      <td>3.237093e-19</td>\n      <td>8.354465e-01</td>\n      <td>-0.140356</td>\n      <td>-1.791913</td>\n    </tr>\n    <tr>\n      <th>GSM403284</th>\n      <td>0.697094</td>\n      <td>-0.652146</td>\n      <td>3.664863e-03</td>\n      <td>1.139160e-27</td>\n      <td>0.024270</td>\n      <td>0.682180</td>\n      <td>-0.510587</td>\n      <td>1.046635e-06</td>\n      <td>4.533459e-14</td>\n      <td>0.047464</td>\n      <td>-0.141559</td>\n    </tr>\n    <tr>\n      <th>GSM403286</th>\n      <td>2.985380</td>\n      <td>0.110248</td>\n      <td>8.962615e-13</td>\n      <td>1.528181e-54</td>\n      <td>-0.178819</td>\n      <td>0.746839</td>\n      <td>5.902807</td>\n      <td>6.034198e-87</td>\n      <td>7.595334e-03</td>\n      <td>-0.601964</td>\n      <td>-5.792559</td>\n    </tr>\n    <tr>\n      <th>GSM403288</th>\n      <td>2.113140</td>\n      <td>4.989735</td>\n      <td>6.115751e-05</td>\n      <td>1.724262e-34</td>\n      <td>-0.090279</td>\n      <td>0.030377</td>\n      <td>5.129144</td>\n      <td>9.711531e-40</td>\n      <td>9.063974e-01</td>\n      <td>-0.368695</td>\n      <td>-0.139408</td>\n    </tr>\n    <tr>\n      <th>GSM403290</th>\n      <td>2.533135</td>\n      <td>4.578816</td>\n      <td>5.944721e-04</td>\n      <td>2.525650e-47</td>\n      <td>-0.078476</td>\n      <td>0.543712</td>\n      <td>7.234080</td>\n      <td>4.893973e-30</td>\n      <td>3.011190e-02</td>\n      <td>-0.308376</td>\n      <td>-2.655265</td>\n    </tr>\n  </tbody>\n</table>\n</div>"
     },
     "execution_count": 17,
     "metadata": {},
     "output_type": "execute_result"
    }
   ],
   "source": [
    "full_states_table = states_pipeline.full_R_SI_score_pipeline(expression_table,control_individuals)\n",
    "full_states_table.head()"
   ],
   "metadata": {
    "collapsed": false,
    "pycharm": {
     "name": "#%%\n"
    }
   }
  }
 ],
 "metadata": {
  "kernelspec": {
   "display_name": "Python 3",
   "language": "python",
   "name": "python3"
  },
  "language_info": {
   "codemirror_mode": {
    "name": "ipython",
    "version": 2
   },
   "file_extension": ".py",
   "mimetype": "text/x-python",
   "name": "python",
   "nbconvert_exporter": "python",
   "pygments_lexer": "ipython2",
   "version": "2.7.6"
  }
 },
 "nbformat": 4,
 "nbformat_minor": 0
}