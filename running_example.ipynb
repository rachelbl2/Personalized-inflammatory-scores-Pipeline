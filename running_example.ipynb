{
 "cells": [
  {
   "cell_type": "code",
   "execution_count": 18,
   "metadata": {
    "collapsed": true
   },
   "outputs": [],
   "source": [
    "import pandas as pd\n",
    "import seaborn as sns\n",
    "import states_pipeline\n",
    "from scipy import stats"
   ]
  },
  {
   "cell_type": "markdown",
   "source": [
    "### Running example - Covid-19 expression data set\n",
    "\n",
    "The data set used in this example was taken from https://www.ebi.ac.uk/biostudies/arrayexpress/studies/E-MTAB-10022#mt-E-MTAB-10022\n",
    "all the files used are in the example folder"
   ],
   "metadata": {
    "collapsed": false,
    "pycharm": {
     "name": "#%% md\n"
    }
   }
  },
  {
   "cell_type": "markdown",
   "source": [
    "#### Step 1\n",
    "\n",
    "Reading the data files and formatting as a valid input for the pipeline"
   ],
   "metadata": {
    "collapsed": false,
    "pycharm": {
     "name": "#%% md\n"
    }
   }
  },
  {
   "cell_type": "code",
   "execution_count": 2,
   "outputs": [
    {
     "data": {
      "text/plain": "        HCW_0002_BL_S10  HCW_0003_BL_S2  HCW_0004_BL_S3  HCW_0005_BL_S6  \\\nA1BG           2.270129        3.539934        3.532058        2.218345   \nA1CF          -3.684561       -4.489027       -5.633046       -4.354587   \nA2M            1.765433        0.539696        1.501750        1.634613   \nA2ML1         -0.856259       -2.309741       -0.296599       -1.095454   \nA2MP1         -0.508621       -0.918028       -0.313055       -0.677447   \n...                 ...             ...             ...             ...   \nZXDC           4.035999        3.865116        3.878217        4.284400   \nZYG11A        -1.017076       -2.069579       -1.871406       -1.448258   \nZYG11B         2.612262        2.839412        2.460246        2.787134   \nZYX            8.301075        8.017983        7.637900        8.280762   \nZZEF1          4.513144        4.421194        4.469936        4.397758   \n\n        HCW_0006_BL_S4  HCW_0007_BL_S5  HCW_0008_BL_S6  HCW_0010_BL_S6  \\\nA1BG          2.895079        3.247184        4.278678        1.660995   \nA1CF         -6.511977       -6.517735       -4.841477       -6.670320   \nA2M           1.839198        0.797334        0.644552        1.021665   \nA2ML1        -0.965917       -1.895342       -0.803457       -0.699647   \nA2MP1         0.038360        0.407099       -0.770746       -0.269756   \n...                ...             ...             ...             ...   \nZXDC          3.874255        4.165834        3.322858        4.015821   \nZYG11A       -2.968480       -2.685311       -2.173126       -2.716033   \nZYG11B        2.652506        2.797897        1.327473        3.145163   \nZYX           7.885099        8.040142        7.739295        7.737375   \nZZEF1         4.486068        4.779319        3.242821        4.949861   \n\n        HCW_0013_BL_S7  HCW_0014_BL_S8  ...  HCW_0369_FUP3_S15  \\\nA1BG          3.802247        4.114480  ...           2.841288   \nA1CF         -5.128604       -5.650383  ...          -5.328806   \nA2M           0.738556        1.182201  ...           2.278568   \nA2ML1        -1.092071       -1.294508  ...          -0.686316   \nA2MP1        -1.514842       -0.327315  ...          -0.097082   \n...                ...             ...  ...                ...   \nZXDC          3.925092        3.633842  ...           3.953920   \nZYG11A       -1.831261       -1.454439  ...          -1.437406   \nZYG11B        2.407982        2.052663  ...           2.490260   \nZYX           7.636431        7.591539  ...           7.993416   \nZZEF1         4.241070        4.021073  ...           4.308050   \n\n        HCW_0371_6M_S15  HCW_0371_BL_S6  HCW_0371_FUP1_S10  HCW_0371_FUP3_S16  \\\nA1BG           2.766303        2.847633           2.787172           3.097815   \nA1CF          -5.677970       -6.007568          -4.919897          -4.693549   \nA2M            1.350392        1.128797           2.227367           1.594277   \nA2ML1         -2.450663       -1.677161          -1.260409          -0.722714   \nA2MP1         -0.756792       -1.237596          -0.853474          -0.129221   \n...                 ...             ...                ...                ...   \nZXDC           4.023215        3.847688           4.014879           3.988303   \nZYG11A        -3.897380       -2.726168          -1.672673          -1.820978   \nZYG11B         3.054326        2.428543           2.737585           2.723141   \nZYX            7.188781        7.432129           7.992434           7.891375   \nZZEF1          5.077726        3.828986           4.204538           4.468438   \n\n        HCW_0373_6M_S16  HCW_0373_BL_S7  HCW_0373_FUP1_S11  HCW_0373_FUP3_S16  \\\nA1BG           2.889702        3.283643           3.492415           2.935464   \nA1CF          -5.921299       -6.464266          -4.800767          -3.910358   \nA2M            1.205685        2.019420           1.393601           1.956758   \nA2ML1         -2.786855       -2.533186          -1.405512          -0.847738   \nA2MP1          0.004533       -1.097971          -0.328016           0.829298   \n...                 ...             ...                ...                ...   \nZXDC           3.840731        3.633323           3.693066           3.703004   \nZYG11A        -3.296141       -1.978109          -1.498507          -1.806882   \nZYG11B         2.730539        2.525787           2.518680           2.527084   \nZYX            7.675473        7.344620           7.876445           7.624434   \nZZEF1          4.798136        4.106903           4.051791           4.213597   \n\n        HCW_0389_BL_S8  \nA1BG          2.694558  \nA1CF         -3.867730  \nA2M           0.064424  \nA2ML1        -0.992413  \nA2MP1        -1.065123  \n...                ...  \nZXDC          3.320532  \nZYG11A       -1.723641  \nZYG11B        1.892517  \nZYX           7.283239  \nZZEF1         3.393044  \n\n[31780 rows x 172 columns]",
      "text/html": "<div>\n<style scoped>\n    .dataframe tbody tr th:only-of-type {\n        vertical-align: middle;\n    }\n\n    .dataframe tbody tr th {\n        vertical-align: top;\n    }\n\n    .dataframe thead th {\n        text-align: right;\n    }\n</style>\n<table border=\"1\" class=\"dataframe\">\n  <thead>\n    <tr style=\"text-align: right;\">\n      <th></th>\n      <th>HCW_0002_BL_S10</th>\n      <th>HCW_0003_BL_S2</th>\n      <th>HCW_0004_BL_S3</th>\n      <th>HCW_0005_BL_S6</th>\n      <th>HCW_0006_BL_S4</th>\n      <th>HCW_0007_BL_S5</th>\n      <th>HCW_0008_BL_S6</th>\n      <th>HCW_0010_BL_S6</th>\n      <th>HCW_0013_BL_S7</th>\n      <th>HCW_0014_BL_S8</th>\n      <th>...</th>\n      <th>HCW_0369_FUP3_S15</th>\n      <th>HCW_0371_6M_S15</th>\n      <th>HCW_0371_BL_S6</th>\n      <th>HCW_0371_FUP1_S10</th>\n      <th>HCW_0371_FUP3_S16</th>\n      <th>HCW_0373_6M_S16</th>\n      <th>HCW_0373_BL_S7</th>\n      <th>HCW_0373_FUP1_S11</th>\n      <th>HCW_0373_FUP3_S16</th>\n      <th>HCW_0389_BL_S8</th>\n    </tr>\n  </thead>\n  <tbody>\n    <tr>\n      <th>A1BG</th>\n      <td>2.270129</td>\n      <td>3.539934</td>\n      <td>3.532058</td>\n      <td>2.218345</td>\n      <td>2.895079</td>\n      <td>3.247184</td>\n      <td>4.278678</td>\n      <td>1.660995</td>\n      <td>3.802247</td>\n      <td>4.114480</td>\n      <td>...</td>\n      <td>2.841288</td>\n      <td>2.766303</td>\n      <td>2.847633</td>\n      <td>2.787172</td>\n      <td>3.097815</td>\n      <td>2.889702</td>\n      <td>3.283643</td>\n      <td>3.492415</td>\n      <td>2.935464</td>\n      <td>2.694558</td>\n    </tr>\n    <tr>\n      <th>A1CF</th>\n      <td>-3.684561</td>\n      <td>-4.489027</td>\n      <td>-5.633046</td>\n      <td>-4.354587</td>\n      <td>-6.511977</td>\n      <td>-6.517735</td>\n      <td>-4.841477</td>\n      <td>-6.670320</td>\n      <td>-5.128604</td>\n      <td>-5.650383</td>\n      <td>...</td>\n      <td>-5.328806</td>\n      <td>-5.677970</td>\n      <td>-6.007568</td>\n      <td>-4.919897</td>\n      <td>-4.693549</td>\n      <td>-5.921299</td>\n      <td>-6.464266</td>\n      <td>-4.800767</td>\n      <td>-3.910358</td>\n      <td>-3.867730</td>\n    </tr>\n    <tr>\n      <th>A2M</th>\n      <td>1.765433</td>\n      <td>0.539696</td>\n      <td>1.501750</td>\n      <td>1.634613</td>\n      <td>1.839198</td>\n      <td>0.797334</td>\n      <td>0.644552</td>\n      <td>1.021665</td>\n      <td>0.738556</td>\n      <td>1.182201</td>\n      <td>...</td>\n      <td>2.278568</td>\n      <td>1.350392</td>\n      <td>1.128797</td>\n      <td>2.227367</td>\n      <td>1.594277</td>\n      <td>1.205685</td>\n      <td>2.019420</td>\n      <td>1.393601</td>\n      <td>1.956758</td>\n      <td>0.064424</td>\n    </tr>\n    <tr>\n      <th>A2ML1</th>\n      <td>-0.856259</td>\n      <td>-2.309741</td>\n      <td>-0.296599</td>\n      <td>-1.095454</td>\n      <td>-0.965917</td>\n      <td>-1.895342</td>\n      <td>-0.803457</td>\n      <td>-0.699647</td>\n      <td>-1.092071</td>\n      <td>-1.294508</td>\n      <td>...</td>\n      <td>-0.686316</td>\n      <td>-2.450663</td>\n      <td>-1.677161</td>\n      <td>-1.260409</td>\n      <td>-0.722714</td>\n      <td>-2.786855</td>\n      <td>-2.533186</td>\n      <td>-1.405512</td>\n      <td>-0.847738</td>\n      <td>-0.992413</td>\n    </tr>\n    <tr>\n      <th>A2MP1</th>\n      <td>-0.508621</td>\n      <td>-0.918028</td>\n      <td>-0.313055</td>\n      <td>-0.677447</td>\n      <td>0.038360</td>\n      <td>0.407099</td>\n      <td>-0.770746</td>\n      <td>-0.269756</td>\n      <td>-1.514842</td>\n      <td>-0.327315</td>\n      <td>...</td>\n      <td>-0.097082</td>\n      <td>-0.756792</td>\n      <td>-1.237596</td>\n      <td>-0.853474</td>\n      <td>-0.129221</td>\n      <td>0.004533</td>\n      <td>-1.097971</td>\n      <td>-0.328016</td>\n      <td>0.829298</td>\n      <td>-1.065123</td>\n    </tr>\n    <tr>\n      <th>...</th>\n      <td>...</td>\n      <td>...</td>\n      <td>...</td>\n      <td>...</td>\n      <td>...</td>\n      <td>...</td>\n      <td>...</td>\n      <td>...</td>\n      <td>...</td>\n      <td>...</td>\n      <td>...</td>\n      <td>...</td>\n      <td>...</td>\n      <td>...</td>\n      <td>...</td>\n      <td>...</td>\n      <td>...</td>\n      <td>...</td>\n      <td>...</td>\n      <td>...</td>\n      <td>...</td>\n    </tr>\n    <tr>\n      <th>ZXDC</th>\n      <td>4.035999</td>\n      <td>3.865116</td>\n      <td>3.878217</td>\n      <td>4.284400</td>\n      <td>3.874255</td>\n      <td>4.165834</td>\n      <td>3.322858</td>\n      <td>4.015821</td>\n      <td>3.925092</td>\n      <td>3.633842</td>\n      <td>...</td>\n      <td>3.953920</td>\n      <td>4.023215</td>\n      <td>3.847688</td>\n      <td>4.014879</td>\n      <td>3.988303</td>\n      <td>3.840731</td>\n      <td>3.633323</td>\n      <td>3.693066</td>\n      <td>3.703004</td>\n      <td>3.320532</td>\n    </tr>\n    <tr>\n      <th>ZYG11A</th>\n      <td>-1.017076</td>\n      <td>-2.069579</td>\n      <td>-1.871406</td>\n      <td>-1.448258</td>\n      <td>-2.968480</td>\n      <td>-2.685311</td>\n      <td>-2.173126</td>\n      <td>-2.716033</td>\n      <td>-1.831261</td>\n      <td>-1.454439</td>\n      <td>...</td>\n      <td>-1.437406</td>\n      <td>-3.897380</td>\n      <td>-2.726168</td>\n      <td>-1.672673</td>\n      <td>-1.820978</td>\n      <td>-3.296141</td>\n      <td>-1.978109</td>\n      <td>-1.498507</td>\n      <td>-1.806882</td>\n      <td>-1.723641</td>\n    </tr>\n    <tr>\n      <th>ZYG11B</th>\n      <td>2.612262</td>\n      <td>2.839412</td>\n      <td>2.460246</td>\n      <td>2.787134</td>\n      <td>2.652506</td>\n      <td>2.797897</td>\n      <td>1.327473</td>\n      <td>3.145163</td>\n      <td>2.407982</td>\n      <td>2.052663</td>\n      <td>...</td>\n      <td>2.490260</td>\n      <td>3.054326</td>\n      <td>2.428543</td>\n      <td>2.737585</td>\n      <td>2.723141</td>\n      <td>2.730539</td>\n      <td>2.525787</td>\n      <td>2.518680</td>\n      <td>2.527084</td>\n      <td>1.892517</td>\n    </tr>\n    <tr>\n      <th>ZYX</th>\n      <td>8.301075</td>\n      <td>8.017983</td>\n      <td>7.637900</td>\n      <td>8.280762</td>\n      <td>7.885099</td>\n      <td>8.040142</td>\n      <td>7.739295</td>\n      <td>7.737375</td>\n      <td>7.636431</td>\n      <td>7.591539</td>\n      <td>...</td>\n      <td>7.993416</td>\n      <td>7.188781</td>\n      <td>7.432129</td>\n      <td>7.992434</td>\n      <td>7.891375</td>\n      <td>7.675473</td>\n      <td>7.344620</td>\n      <td>7.876445</td>\n      <td>7.624434</td>\n      <td>7.283239</td>\n    </tr>\n    <tr>\n      <th>ZZEF1</th>\n      <td>4.513144</td>\n      <td>4.421194</td>\n      <td>4.469936</td>\n      <td>4.397758</td>\n      <td>4.486068</td>\n      <td>4.779319</td>\n      <td>3.242821</td>\n      <td>4.949861</td>\n      <td>4.241070</td>\n      <td>4.021073</td>\n      <td>...</td>\n      <td>4.308050</td>\n      <td>5.077726</td>\n      <td>3.828986</td>\n      <td>4.204538</td>\n      <td>4.468438</td>\n      <td>4.798136</td>\n      <td>4.106903</td>\n      <td>4.051791</td>\n      <td>4.213597</td>\n      <td>3.393044</td>\n    </tr>\n  </tbody>\n</table>\n<p>31780 rows × 172 columns</p>\n</div>"
     },
     "execution_count": 2,
     "metadata": {},
     "output_type": "execute_result"
    }
   ],
   "source": [
    "expression_table = pd.read_table('example/COVIDsortium_RNA_biomarkers_tpm_PC0.001_log2_genesymbol_dedup.txt',index_col=0).drop_duplicates()\n",
    "expression_table #the input for the pipeline: expression matrix with genes in index and individuals in columns"
   ],
   "metadata": {
    "collapsed": false,
    "pycharm": {
     "name": "#%%\n"
    }
   }
  },
  {
   "cell_type": "markdown",
   "source": [
    "Now lets create a list of controls.\n",
    "note that the control list should match the columns format\n"
   ],
   "metadata": {
    "collapsed": false,
    "pycharm": {
     "name": "#%% md\n"
    }
   }
  },
  {
   "cell_type": "code",
   "execution_count": 3,
   "outputs": [
    {
     "data": {
      "text/plain": "['HCW_0002_BL_S10',\n 'HCW_0002_BL_S10',\n 'HCW_0003_BL_S2',\n 'HCW_0003_BL_S2',\n 'HCW_0004_BL_S3',\n 'HCW_0004_BL_S3',\n 'HCW_0005_BL_S6',\n 'HCW_0005_BL_S6',\n 'HCW_0006_BL_S4',\n 'HCW_0006_BL_S4',\n 'HCW_0007_BL_S5',\n 'HCW_0007_BL_S5',\n 'HCW_0008_BL_S6',\n 'HCW_0008_BL_S6',\n 'HCW_0010_BL_S6',\n 'HCW_0010_BL_S6',\n 'HCW_0013_BL_S7',\n 'HCW_0013_BL_S7',\n 'HCW_0014_BL_S8',\n 'HCW_0014_BL_S8',\n 'HCW_0015_BL_S9',\n 'HCW_0015_BL_S9',\n 'HCW_0017_BL_S10',\n 'HCW_0017_BL_S10',\n 'HCW_0018_BL_S7',\n 'HCW_0018_BL_S7',\n 'HCW_0019_BL_S11',\n 'HCW_0019_BL_S11',\n 'HCW_0021_BL_S8',\n 'HCW_0021_BL_S8',\n 'HCW_0024_BL_S9',\n 'HCW_0024_BL_S9',\n 'HCW_0025_BL_S10',\n 'HCW_0025_BL_S10',\n 'HCW_0026_BL_S6',\n 'HCW_0026_BL_S6',\n 'HCW_0027_BL_S11',\n 'HCW_0027_BL_S11',\n 'HCW_0030_BL_S12',\n 'HCW_0030_BL_S12',\n 'HCW_0031_BL_S13',\n 'HCW_0031_BL_S13',\n 'HCW_0032_BL_S14',\n 'HCW_0032_BL_S14',\n 'HCW_0037_BL_S7',\n 'HCW_0037_BL_S7',\n 'HCW_0042_BL_S15',\n 'HCW_0042_BL_S15',\n 'HCW_0046_BL_S7',\n 'HCW_0046_BL_S7',\n 'HCW_0048_BL_S8',\n 'HCW_0048_BL_S8',\n 'HCW_0049_BL_S8',\n 'HCW_0049_BL_S8',\n 'HCW_0052_BL_S9',\n 'HCW_0052_BL_S9',\n 'HCW_0053_BL_S10',\n 'HCW_0053_BL_S10',\n 'HCW_0058_BL_S9',\n 'HCW_0058_BL_S9',\n 'HCW_0078_BL_S16',\n 'HCW_0078_BL_S16',\n 'HCW_0084_BL_S1',\n 'HCW_0084_BL_S1',\n 'HCW_0086_BL_S2',\n 'HCW_0086_BL_S2',\n 'HCW_0087_BL_S3',\n 'HCW_0087_BL_S3',\n 'HCW_0088_BL_S4',\n 'HCW_0088_BL_S4',\n 'HCW_0089_BL_S5',\n 'HCW_0089_BL_S5',\n 'HCW_0098_BL_S6',\n 'HCW_0098_BL_S6',\n 'HCW_0102_BL_S7',\n 'HCW_0102_BL_S7',\n 'HCW_0104_BL_S8',\n 'HCW_0104_BL_S8',\n 'HCW_0105_BL_S9',\n 'HCW_0105_BL_S9',\n 'HCW_0106_BL_S10',\n 'HCW_0106_BL_S10',\n 'HCW_0107_BL_S11',\n 'HCW_0107_BL_S11',\n 'HCW_0108_BL_S12',\n 'HCW_0108_BL_S12',\n 'HCW_0120_BL_S13',\n 'HCW_0120_BL_S13',\n 'HCW_0130_BL_S14',\n 'HCW_0130_BL_S14',\n 'HCW_0158_BL_S15',\n 'HCW_0158_BL_S15',\n 'HCW_0160_BL_S16',\n 'HCW_0160_BL_S16',\n 'HCW_0161_BL_S1',\n 'HCW_0161_BL_S1',\n 'HCW_0163_BL_S2',\n 'HCW_0163_BL_S2',\n 'HCW_0165_BL_S3',\n 'HCW_0165_BL_S3',\n 'HCW_0168_BL_S4',\n 'HCW_0168_BL_S4',\n 'HCW_0178_BL_S5',\n 'HCW_0178_BL_S5',\n 'HCW_0186_BL_S6',\n 'HCW_0186_BL_S6',\n 'HCW_0187_BL_S7',\n 'HCW_0187_BL_S7',\n 'HCW_0188_BL_S8',\n 'HCW_0188_BL_S8',\n 'HCW_0189_BL_S9',\n 'HCW_0189_BL_S9',\n 'HCW_0190_BL_S10',\n 'HCW_0190_BL_S10',\n 'HCW_0194_BL_S11',\n 'HCW_0194_BL_S11']"
     },
     "execution_count": 3,
     "metadata": {},
     "output_type": "execute_result"
    }
   ],
   "source": [
    "individuals = pd.read_table('example/E-MTAB-10022.sdrf.txt',index_col=0)\n",
    "control_individuals = list(individuals[individuals['Characteristics[class]'] == 'non-infected control']['Comment[SUBMITTED_FILE_NAME]'])\n",
    "control_individuals = [individual.split('_R')[0] for individual in control_individuals] #changing the format to match the expression table\n",
    "control_individuals #list of control individuals"
   ],
   "metadata": {
    "collapsed": false,
    "pycharm": {
     "name": "#%%\n"
    }
   }
  },
  {
   "cell_type": "markdown",
   "source": [
    "*In this example, the controls are healthy individuals, but you can use any subset of individuals you want the states to be centered based on. For example, time 0 in time series data or patients who did not take any drug\n"
   ],
   "metadata": {
    "collapsed": false,
    "pycharm": {
     "name": "#%% md\n"
    }
   }
  },
  {
   "cell_type": "markdown",
   "source": [
    "#### Step 2: read the maps"
   ],
   "metadata": {
    "collapsed": false,
    "pycharm": {
     "name": "#%% md\n"
    }
   }
  },
  {
   "cell_type": "code",
   "execution_count": 19,
   "outputs": [],
   "source": [
    "T_R_map = pd.read_csv('resistance_tolerance_map.csv',index_col=0)\n",
    "mets_SI_map = pd.read_csv('MetS_systemic_inflammation_map.csv',index_col=0)"
   ],
   "metadata": {
    "collapsed": false,
    "pycharm": {
     "name": "#%%\n"
    }
   }
  },
  {
   "cell_type": "markdown",
   "source": [
    "#### Step 3: data preprocessing"
   ],
   "metadata": {
    "collapsed": false,
    "pycharm": {
     "name": "#%% md\n"
    }
   }
  },
  {
   "cell_type": "code",
   "execution_count": 20,
   "outputs": [
    {
     "name": "stderr",
     "output_type": "stream",
   
    }
   ],
   "source": [
    "expression_df = states_pipeline.expression_preproccesing(expression_table,control_individuals)"
   ],
   "metadata": {
    "collapsed": false,
    "pycharm": {
     "name": "#%%\n"
    }
   }
  },
  {
   "cell_type": "markdown",
   "source": [
    "### Step 4: states calculation"
   ],
   "metadata": {
    "collapsed": false,
    "pycharm": {
     "name": "#%% md\n"
    }
   }
  },
  {
   "cell_type": "code",
   "execution_count": 22,
   "outputs": [],
   "source": [
    "r_t_states = states_pipeline.states_df(T_R_map,'T','R',expression_df)\n",
    "mets_si_states = states_pipeline.states_df(mets_SI_map,'MetS','SI',expression_df)\n",
    "full_states_table = r_t_states.join(mets_si_states)"
   ],
   "metadata": {
    "collapsed": false,
    "pycharm": {
     "name": "#%%\n"
    }
   }
  },
  {
   "cell_type": "markdown",
   "source": [
    "lets see what we got"
   ],
   "metadata": {
    "collapsed": false,
    "pycharm": {
     "name": "#%% md\n"
    }
   }
  },
  {
   "cell_type": "code",
   "execution_count": 23,
   "outputs": [
    {
     "data": {
      "text/plain": "                    T state   R state         pval T         pval R  \\\nindividual                                                            \nHCW_0002_BL_S10    0.260696 -0.688266   1.682190e-09   1.950297e-04   \nHCW_0003_BL_S2    -0.278152 -0.208724   7.559067e-01   1.091954e-28   \nHCW_0004_BL_S3    -0.350323 -0.407211  2.504611e-121   5.987409e-43   \nHCW_0005_BL_S6    -0.583441 -1.016938   9.347748e-08   4.697559e-19   \nHCW_0006_BL_S4    -0.528812 -0.350284   9.390012e-01   3.075245e-91   \n...                     ...       ...            ...            ...   \nHCW_0373_6M_S16   -1.241636 -0.112193  2.389675e-151  1.674796e-295   \nHCW_0373_BL_S7    -1.034538  0.149760   6.954020e-04  2.203882e-196   \nHCW_0373_FUP1_S11 -0.625589  0.173062   8.326827e-81   2.015732e-85   \nHCW_0373_FUP3_S16 -0.793821 -0.062855  7.950372e-230  6.505278e-202   \nHCW_0389_BL_S8     0.315793  0.908535   2.496389e-01   6.019282e-11   \n\n                   MetS state  SI state      pval MetS        pval SI  \nindividual                                                             \nHCW_0002_BL_S10     -0.053246  0.015446   1.191988e-10   3.971643e-39  \nHCW_0003_BL_S2      -0.015913 -0.014907   3.482043e-03   8.263802e-28  \nHCW_0004_BL_S3       0.005077 -0.022208  5.615142e-162   4.950166e-04  \nHCW_0005_BL_S6      -0.080726 -0.019011   5.225579e-16  5.555657e-101  \nHCW_0006_BL_S4      -0.004596 -0.024662   1.839061e-07   2.011206e-03  \n...                       ...       ...            ...            ...  \nHCW_0373_6M_S16     -0.054655 -0.020132   1.520556e-67  5.363219e-176  \nHCW_0373_BL_S7      -0.026217 -0.028762   1.250371e-07   3.805811e-39  \nHCW_0373_FUP1_S11   -0.038931  0.012088   1.916879e-99  2.404894e-100  \nHCW_0373_FUP3_S16   -0.023051 -0.011834  1.143495e-300   3.103270e-52  \nHCW_0389_BL_S8       0.008266  0.038760   1.139851e-04   2.923597e-03  \n\n[172 rows x 8 columns]",
      "text/html": "<div>\n<style scoped>\n    .dataframe tbody tr th:only-of-type {\n        vertical-align: middle;\n    }\n\n    .dataframe tbody tr th {\n        vertical-align: top;\n    }\n\n    .dataframe thead th {\n        text-align: right;\n    }\n</style>\n<table border=\"1\" class=\"dataframe\">\n  <thead>\n    <tr style=\"text-align: right;\">\n      <th></th>\n      <th>T state</th>\n      <th>R state</th>\n      <th>pval T</th>\n      <th>pval R</th>\n      <th>MetS state</th>\n      <th>SI state</th>\n      <th>pval MetS</th>\n      <th>pval SI</th>\n    </tr>\n    <tr>\n      <th>individual</th>\n      <th></th>\n      <th></th>\n      <th></th>\n      <th></th>\n      <th></th>\n      <th></th>\n      <th></th>\n      <th></th>\n    </tr>\n  </thead>\n  <tbody>\n    <tr>\n      <th>HCW_0002_BL_S10</th>\n      <td>0.260696</td>\n      <td>-0.688266</td>\n      <td>1.682190e-09</td>\n      <td>1.950297e-04</td>\n      <td>-0.053246</td>\n      <td>0.015446</td>\n      <td>1.191988e-10</td>\n      <td>3.971643e-39</td>\n    </tr>\n    <tr>\n      <th>HCW_0003_BL_S2</th>\n      <td>-0.278152</td>\n      <td>-0.208724</td>\n      <td>7.559067e-01</td>\n      <td>1.091954e-28</td>\n      <td>-0.015913</td>\n      <td>-0.014907</td>\n      <td>3.482043e-03</td>\n      <td>8.263802e-28</td>\n    </tr>\n    <tr>\n      <th>HCW_0004_BL_S3</th>\n      <td>-0.350323</td>\n      <td>-0.407211</td>\n      <td>2.504611e-121</td>\n      <td>5.987409e-43</td>\n      <td>0.005077</td>\n      <td>-0.022208</td>\n      <td>5.615142e-162</td>\n      <td>4.950166e-04</td>\n    </tr>\n    <tr>\n      <th>HCW_0005_BL_S6</th>\n      <td>-0.583441</td>\n      <td>-1.016938</td>\n      <td>9.347748e-08</td>\n      <td>4.697559e-19</td>\n      <td>-0.080726</td>\n      <td>-0.019011</td>\n      <td>5.225579e-16</td>\n      <td>5.555657e-101</td>\n    </tr>\n    <tr>\n      <th>HCW_0006_BL_S4</th>\n      <td>-0.528812</td>\n      <td>-0.350284</td>\n      <td>9.390012e-01</td>\n      <td>3.075245e-91</td>\n      <td>-0.004596</td>\n      <td>-0.024662</td>\n      <td>1.839061e-07</td>\n      <td>2.011206e-03</td>\n    </tr>\n    <tr>\n      <th>...</th>\n      <td>...</td>\n      <td>...</td>\n      <td>...</td>\n      <td>...</td>\n      <td>...</td>\n      <td>...</td>\n      <td>...</td>\n      <td>...</td>\n    </tr>\n    <tr>\n      <th>HCW_0373_6M_S16</th>\n      <td>-1.241636</td>\n      <td>-0.112193</td>\n      <td>2.389675e-151</td>\n      <td>1.674796e-295</td>\n      <td>-0.054655</td>\n      <td>-0.020132</td>\n      <td>1.520556e-67</td>\n      <td>5.363219e-176</td>\n    </tr>\n    <tr>\n      <th>HCW_0373_BL_S7</th>\n      <td>-1.034538</td>\n      <td>0.149760</td>\n      <td>6.954020e-04</td>\n      <td>2.203882e-196</td>\n      <td>-0.026217</td>\n      <td>-0.028762</td>\n      <td>1.250371e-07</td>\n      <td>3.805811e-39</td>\n    </tr>\n    <tr>\n      <th>HCW_0373_FUP1_S11</th>\n      <td>-0.625589</td>\n      <td>0.173062</td>\n      <td>8.326827e-81</td>\n      <td>2.015732e-85</td>\n      <td>-0.038931</td>\n      <td>0.012088</td>\n      <td>1.916879e-99</td>\n      <td>2.404894e-100</td>\n    </tr>\n    <tr>\n      <th>HCW_0373_FUP3_S16</th>\n      <td>-0.793821</td>\n      <td>-0.062855</td>\n      <td>7.950372e-230</td>\n      <td>6.505278e-202</td>\n      <td>-0.023051</td>\n      <td>-0.011834</td>\n      <td>1.143495e-300</td>\n      <td>3.103270e-52</td>\n    </tr>\n    <tr>\n      <th>HCW_0389_BL_S8</th>\n      <td>0.315793</td>\n      <td>0.908535</td>\n      <td>2.496389e-01</td>\n      <td>6.019282e-11</td>\n      <td>0.008266</td>\n      <td>0.038760</td>\n      <td>1.139851e-04</td>\n      <td>2.923597e-03</td>\n    </tr>\n  </tbody>\n</table>\n<p>172 rows × 8 columns</p>\n</div>"
     },
     "execution_count": 23,
     "metadata": {},
     "output_type": "execute_result"
    }
   ],
   "source": [
    "full_states_table"
   ],
   "metadata": {
    "collapsed": false,
    "pycharm": {
     "name": "#%%\n"
    }
   }
  },
  {
   "cell_type": "markdown",
   "source": [
    "This is the states table for the T/R map aand the MetS SI map with the corresponding p values. you can see how the calculation was done in the function state_pipline.states_df"
   ],
   "metadata": {
    "collapsed": false,
    "pycharm": {
     "name": "#%% md\n"
    }
   }
  },
  {
   "cell_type": "markdown",
   "source": [
    "#### Step 5: Standartization of the calculated levels based on the controls\n",
    "\n",
    "This is an important step so that you could compare states for different maps (like SI and R later in the pipeline) and also to compare states from different data sets\n"
   ],
   "metadata": {
    "collapsed": false,
    "pycharm": {
     "name": "#%% md\n"
    }
   }
  },
  {
   "cell_type": "code",
   "execution_count": 25,
   "outputs": [],
   "source": [
    "full_states_table = states_pipeline.norm_all_states(full_states_table,control_individuals)"
   ],
   "metadata": {
    "collapsed": false,
    "pycharm": {
     "name": "#%%\n"
    }
   }
  },
  {
   "cell_type": "markdown",
   "source": [
    "#### Step 6: R/SI balance score calculation"
   ],
   "metadata": {
    "collapsed": false
   }
  },
  {
   "cell_type": "code",
   "execution_count": 26,
   "outputs": [],
   "source": [
    "full_states_table = states_pipeline.R_SI_balance_score(full_states_table)"
   ],
   "metadata": {
    "collapsed": false,
    "pycharm": {
     "name": "#%%\n"
    }
   }
  },
  {
   "cell_type": "markdown",
   "source": [
    "Now we have the final results. lets take a look:"
   ],
   "metadata": {
    "collapsed": false,
    "pycharm": {
     "name": "#%% md\n"
    }
   }
  },
  {
   "cell_type": "code",
   "execution_count": 27,
   "outputs": [
    {
     "data": {
      "text/plain": "                    T state   R state         pval T         pval R  \\\nindividual                                                            \nHCW_0002_BL_S10    0.279142 -1.314941   1.682190e-09   1.950297e-04   \nHCW_0003_BL_S2    -0.297833 -0.398770   7.559067e-01   1.091954e-28   \nHCW_0004_BL_S3    -0.375111 -0.777982  2.504611e-121   5.987409e-43   \nHCW_0005_BL_S6    -0.624724 -1.942872   9.347748e-08   4.697559e-19   \nHCW_0006_BL_S4    -0.566230 -0.669222   9.390012e-01   3.075245e-91   \n...                     ...       ...            ...            ...   \nHCW_0373_6M_S16   -1.329492 -0.214347  2.389675e-151  1.674796e-295   \nHCW_0373_BL_S7    -1.107740  0.286118   6.954020e-04  2.203882e-196   \nHCW_0373_FUP1_S11 -0.669855  0.330637   8.326827e-81   2.015732e-85   \nHCW_0373_FUP3_S16 -0.849990 -0.120086  7.950372e-230  6.505278e-202   \nHCW_0389_BL_S8     0.338137  1.735766   2.496389e-01   6.019282e-11   \n\n                   MetS state  SI state      pval MetS        pval SI  \\\nindividual                                                              \nHCW_0002_BL_S10     -1.241898  0.452956   1.191988e-10   3.971643e-39   \nHCW_0003_BL_S2      -0.371149 -0.437158   3.482043e-03   8.263802e-28   \nHCW_0004_BL_S3       0.118415 -0.651244  5.615142e-162   4.950166e-04   \nHCW_0005_BL_S6      -1.882825 -0.557494   5.225579e-16  5.555657e-101   \nHCW_0006_BL_S4      -0.107193 -0.723227   1.839061e-07   2.011206e-03   \n...                       ...       ...            ...            ...   \nHCW_0373_6M_S16     -1.274756 -0.590371   1.520556e-67  5.363219e-176   \nHCW_0373_BL_S7      -0.611476 -0.843444   1.250371e-07   3.805811e-39   \nHCW_0373_FUP1_S11   -0.908012  0.354467   1.916879e-99  2.404894e-100   \nHCW_0373_FUP3_S16   -0.537629 -0.347038  1.143495e-300   3.103270e-52   \nHCW_0389_BL_S8       0.192800  1.136649   1.139851e-04   2.923597e-03   \n\n                   R/SI balance score  \nindividual                             \nHCW_0002_BL_S10             -1.767897  \nHCW_0003_BL_S2               0.038388  \nHCW_0004_BL_S3              -0.126738  \nHCW_0005_BL_S6              -1.385378  \nHCW_0006_BL_S4               0.054005  \n...                               ...  \nHCW_0373_6M_S16              0.376024  \nHCW_0373_BL_S7               1.129562  \nHCW_0373_FUP1_S11           -0.023830  \nHCW_0373_FUP3_S16            0.226952  \nHCW_0389_BL_S8               0.599118  \n\n[172 rows x 9 columns]",
      "text/html": "<div>\n<style scoped>\n    .dataframe tbody tr th:only-of-type {\n        vertical-align: middle;\n    }\n\n    .dataframe tbody tr th {\n        vertical-align: top;\n    }\n\n    .dataframe thead th {\n        text-align: right;\n    }\n</style>\n<table border=\"1\" class=\"dataframe\">\n  <thead>\n    <tr style=\"text-align: right;\">\n      <th></th>\n      <th>T state</th>\n      <th>R state</th>\n      <th>pval T</th>\n      <th>pval R</th>\n      <th>MetS state</th>\n      <th>SI state</th>\n      <th>pval MetS</th>\n      <th>pval SI</th>\n      <th>R/SI balance score</th>\n    </tr>\n    <tr>\n      <th>individual</th>\n      <th></th>\n      <th></th>\n      <th></th>\n      <th></th>\n      <th></th>\n      <th></th>\n      <th></th>\n      <th></th>\n      <th></th>\n    </tr>\n  </thead>\n  <tbody>\n    <tr>\n      <th>HCW_0002_BL_S10</th>\n      <td>0.279142</td>\n      <td>-1.314941</td>\n      <td>1.682190e-09</td>\n      <td>1.950297e-04</td>\n      <td>-1.241898</td>\n      <td>0.452956</td>\n      <td>1.191988e-10</td>\n      <td>3.971643e-39</td>\n      <td>-1.767897</td>\n    </tr>\n    <tr>\n      <th>HCW_0003_BL_S2</th>\n      <td>-0.297833</td>\n      <td>-0.398770</td>\n      <td>7.559067e-01</td>\n      <td>1.091954e-28</td>\n      <td>-0.371149</td>\n      <td>-0.437158</td>\n      <td>3.482043e-03</td>\n      <td>8.263802e-28</td>\n      <td>0.038388</td>\n    </tr>\n    <tr>\n      <th>HCW_0004_BL_S3</th>\n      <td>-0.375111</td>\n      <td>-0.777982</td>\n      <td>2.504611e-121</td>\n      <td>5.987409e-43</td>\n      <td>0.118415</td>\n      <td>-0.651244</td>\n      <td>5.615142e-162</td>\n      <td>4.950166e-04</td>\n      <td>-0.126738</td>\n    </tr>\n    <tr>\n      <th>HCW_0005_BL_S6</th>\n      <td>-0.624724</td>\n      <td>-1.942872</td>\n      <td>9.347748e-08</td>\n      <td>4.697559e-19</td>\n      <td>-1.882825</td>\n      <td>-0.557494</td>\n      <td>5.225579e-16</td>\n      <td>5.555657e-101</td>\n      <td>-1.385378</td>\n    </tr>\n    <tr>\n      <th>HCW_0006_BL_S4</th>\n      <td>-0.566230</td>\n      <td>-0.669222</td>\n      <td>9.390012e-01</td>\n      <td>3.075245e-91</td>\n      <td>-0.107193</td>\n      <td>-0.723227</td>\n      <td>1.839061e-07</td>\n      <td>2.011206e-03</td>\n      <td>0.054005</td>\n    </tr>\n    <tr>\n      <th>...</th>\n      <td>...</td>\n      <td>...</td>\n      <td>...</td>\n      <td>...</td>\n      <td>...</td>\n      <td>...</td>\n      <td>...</td>\n      <td>...</td>\n      <td>...</td>\n    </tr>\n    <tr>\n      <th>HCW_0373_6M_S16</th>\n      <td>-1.329492</td>\n      <td>-0.214347</td>\n      <td>2.389675e-151</td>\n      <td>1.674796e-295</td>\n      <td>-1.274756</td>\n      <td>-0.590371</td>\n      <td>1.520556e-67</td>\n      <td>5.363219e-176</td>\n      <td>0.376024</td>\n    </tr>\n    <tr>\n      <th>HCW_0373_BL_S7</th>\n      <td>-1.107740</td>\n      <td>0.286118</td>\n      <td>6.954020e-04</td>\n      <td>2.203882e-196</td>\n      <td>-0.611476</td>\n      <td>-0.843444</td>\n      <td>1.250371e-07</td>\n      <td>3.805811e-39</td>\n      <td>1.129562</td>\n    </tr>\n    <tr>\n      <th>HCW_0373_FUP1_S11</th>\n      <td>-0.669855</td>\n      <td>0.330637</td>\n      <td>8.326827e-81</td>\n      <td>2.015732e-85</td>\n      <td>-0.908012</td>\n      <td>0.354467</td>\n      <td>1.916879e-99</td>\n      <td>2.404894e-100</td>\n      <td>-0.023830</td>\n    </tr>\n    <tr>\n      <th>HCW_0373_FUP3_S16</th>\n      <td>-0.849990</td>\n      <td>-0.120086</td>\n      <td>7.950372e-230</td>\n      <td>6.505278e-202</td>\n      <td>-0.537629</td>\n      <td>-0.347038</td>\n      <td>1.143495e-300</td>\n      <td>3.103270e-52</td>\n      <td>0.226952</td>\n    </tr>\n    <tr>\n      <th>HCW_0389_BL_S8</th>\n      <td>0.338137</td>\n      <td>1.735766</td>\n      <td>2.496389e-01</td>\n      <td>6.019282e-11</td>\n      <td>0.192800</td>\n      <td>1.136649</td>\n      <td>1.139851e-04</td>\n      <td>2.923597e-03</td>\n      <td>0.599118</td>\n    </tr>\n  </tbody>\n</table>\n<p>172 rows × 9 columns</p>\n</div>"
     },
     "execution_count": 27,
     "metadata": {},
     "output_type": "execute_result"
    }
   ],
   "source": [
    "full_states_table"
   ],
   "metadata": {
    "collapsed": false,
    "pycharm": {
     "name": "#%%\n"
    }
   }
  },
  {
   "cell_type": "markdown",
   "source": [
    "Now you can use your R/SI final score for some downstream analysis"
   ],
   "metadata": {
    "collapsed": false,
    "pycharm": {
     "name": "#%% md\n"
    }
   }
  },
  {
   "cell_type": "code",
   "execution_count": 28,
   "outputs": [],
   "source": [
    "full_states_table['group'] = full_states_table.apply(lambda row: 'healthy control' if row.name in control_individuals else 'covid-19',axis=1)"
   ],
   "metadata": {
    "collapsed": false,
    "pycharm": {
     "name": "#%%\n"
    }
   }
  },
  {
   "cell_type": "code",
   "execution_count": 29,
   "outputs": [
    {
     "data": {
      "text/plain": "Ttest_indResult(statistic=5.235141650289624, pvalue=4.816824860849484e-07)"
     },
     "execution_count": 29,
     "metadata": {},
     "output_type": "execute_result"
    },
    {
     "data": {
      "text/plain": "<Figure size 432x288 with 1 Axes>",
      "image/png": "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\n"
     },
     "metadata": {
      "needs_background": "light"
     },
     "output_type": "display_data"
    }
   ],
   "source": [
    "sns.boxplot(data = full_states_table,y='R/SI balance score',x='group') #box plot the R/SI balance score of healthy controls and in covid patients\n",
    "stats.ttest_ind(full_states_table[full_states_table['group'] == 'covid-19']['R/SI balance score'], full_states_table[full_states_table['group'] == 'healthy control']['R/SI balance score']) # ttest to compare the 'R/SI balance score between the two groups"
   ],
   "metadata": {
    "collapsed": false,
    "pycharm": {
     "name": "#%%\n"
    }
   }
  },
  {
   "cell_type": "markdown",
   "source": [
    "Here i did a simple analysis to compare the R/SI balance score of healthy and sick individuals"
   ],
   "metadata": {
    "collapsed": false,
    "pycharm": {
     "name": "#%% md\n"
    }
   }
  },
  {
   "cell_type": "markdown",
   "source": [
    "#### Run the full pipeline\n",
    "\n",
    "In this example ran the pipeline step by step to show how to use it flexibly (now you can use the states calculation on a different gene maps).\n",
    "If you want to run the full pipeline easily you can simply use the function: full_R_SI_score_pipeline(expression_table,control_individuals) as follows:"
   ],
   "metadata": {
    "collapsed": false,
    "pycharm": {
     "name": "#%% md\n"
    }
   }
  },
  {
   "cell_type": "code",
   "execution_count": 33,
   "outputs": [
    {
     "name": "stderr",
     "output_type": "stream",
     "text": [
      "C:\\Users\\Rachel\\Dropbox (Irit Gat Viks)\\Sepsis python project\\sepsis_python_project\\state pipline code for git\\states_pipline.py:12: RuntimeWarning: invalid value encountered in log2\n",
      "  expression_df = np.log2(expression_df+1)\n",
      "C:\\Users\\Rachel\\anaconda3\\lib\\site-packages\\sklearn\\utils\\extmath.py:770: RuntimeWarning: invalid value encountered in true_divide\n",
      "  updated_mean = (last_sum + new_sum) / updated_sample_count\n",
      "C:\\Users\\Rachel\\anaconda3\\lib\\site-packages\\sklearn\\utils\\extmath.py:711: RuntimeWarning: Degrees of freedom <= 0 for slice.\n",
      "  result = op(x, *args, **kwargs)\n"
     ]
    },
    {
     "data": {
      "text/plain": "                    T state   R state         pval T         pval R  \\\nindividual                                                            \nHCW_0002_BL_S10    0.279142 -1.314941   1.682190e-09   1.950297e-04   \nHCW_0003_BL_S2    -0.297833 -0.398770   7.559067e-01   1.091954e-28   \nHCW_0004_BL_S3    -0.375111 -0.777982  2.504611e-121   5.987409e-43   \nHCW_0005_BL_S6    -0.624724 -1.942872   9.347748e-08   4.697559e-19   \nHCW_0006_BL_S4    -0.566230 -0.669222   9.390012e-01   3.075245e-91   \n...                     ...       ...            ...            ...   \nHCW_0373_6M_S16   -1.329492 -0.214347  2.389675e-151  1.674796e-295   \nHCW_0373_BL_S7    -1.107740  0.286118   6.954020e-04  2.203882e-196   \nHCW_0373_FUP1_S11 -0.669855  0.330637   8.326827e-81   2.015732e-85   \nHCW_0373_FUP3_S16 -0.849990 -0.120086  7.950372e-230  6.505278e-202   \nHCW_0389_BL_S8     0.338137  1.735766   2.496389e-01   6.019282e-11   \n\n                   MetS state  SI state      pval MetS        pval SI  \\\nindividual                                                              \nHCW_0002_BL_S10     -1.241898  0.452956   1.191988e-10   3.971643e-39   \nHCW_0003_BL_S2      -0.371149 -0.437158   3.482043e-03   8.263802e-28   \nHCW_0004_BL_S3       0.118415 -0.651244  5.615142e-162   4.950166e-04   \nHCW_0005_BL_S6      -1.882825 -0.557494   5.225579e-16  5.555657e-101   \nHCW_0006_BL_S4      -0.107193 -0.723227   1.839061e-07   2.011206e-03   \n...                       ...       ...            ...            ...   \nHCW_0373_6M_S16     -1.274756 -0.590371   1.520556e-67  5.363219e-176   \nHCW_0373_BL_S7      -0.611476 -0.843444   1.250371e-07   3.805811e-39   \nHCW_0373_FUP1_S11   -0.908012  0.354467   1.916879e-99  2.404894e-100   \nHCW_0373_FUP3_S16   -0.537629 -0.347038  1.143495e-300   3.103270e-52   \nHCW_0389_BL_S8       0.192800  1.136649   1.139851e-04   2.923597e-03   \n\n                   R/SI balance score  \nindividual                             \nHCW_0002_BL_S10             -1.767897  \nHCW_0003_BL_S2               0.038388  \nHCW_0004_BL_S3              -0.126738  \nHCW_0005_BL_S6              -1.385378  \nHCW_0006_BL_S4               0.054005  \n...                               ...  \nHCW_0373_6M_S16              0.376024  \nHCW_0373_BL_S7               1.129562  \nHCW_0373_FUP1_S11           -0.023830  \nHCW_0373_FUP3_S16            0.226952  \nHCW_0389_BL_S8               0.599118  \n\n[172 rows x 9 columns]",
      "text/html": "<div>\n<style scoped>\n    .dataframe tbody tr th:only-of-type {\n        vertical-align: middle;\n    }\n\n    .dataframe tbody tr th {\n        vertical-align: top;\n    }\n\n    .dataframe thead th {\n        text-align: right;\n    }\n</style>\n<table border=\"1\" class=\"dataframe\">\n  <thead>\n    <tr style=\"text-align: right;\">\n      <th></th>\n      <th>T state</th>\n      <th>R state</th>\n      <th>pval T</th>\n      <th>pval R</th>\n      <th>MetS state</th>\n      <th>SI state</th>\n      <th>pval MetS</th>\n      <th>pval SI</th>\n      <th>R/SI balance score</th>\n    </tr>\n    <tr>\n      <th>individual</th>\n      <th></th>\n      <th></th>\n      <th></th>\n      <th></th>\n      <th></th>\n      <th></th>\n      <th></th>\n      <th></th>\n      <th></th>\n    </tr>\n  </thead>\n  <tbody>\n    <tr>\n      <th>HCW_0002_BL_S10</th>\n      <td>0.279142</td>\n      <td>-1.314941</td>\n      <td>1.682190e-09</td>\n      <td>1.950297e-04</td>\n      <td>-1.241898</td>\n      <td>0.452956</td>\n      <td>1.191988e-10</td>\n      <td>3.971643e-39</td>\n      <td>-1.767897</td>\n    </tr>\n    <tr>\n      <th>HCW_0003_BL_S2</th>\n      <td>-0.297833</td>\n      <td>-0.398770</td>\n      <td>7.559067e-01</td>\n      <td>1.091954e-28</td>\n      <td>-0.371149</td>\n      <td>-0.437158</td>\n      <td>3.482043e-03</td>\n      <td>8.263802e-28</td>\n      <td>0.038388</td>\n    </tr>\n    <tr>\n      <th>HCW_0004_BL_S3</th>\n      <td>-0.375111</td>\n      <td>-0.777982</td>\n      <td>2.504611e-121</td>\n      <td>5.987409e-43</td>\n      <td>0.118415</td>\n      <td>-0.651244</td>\n      <td>5.615142e-162</td>\n      <td>4.950166e-04</td>\n      <td>-0.126738</td>\n    </tr>\n    <tr>\n      <th>HCW_0005_BL_S6</th>\n      <td>-0.624724</td>\n      <td>-1.942872</td>\n      <td>9.347748e-08</td>\n      <td>4.697559e-19</td>\n      <td>-1.882825</td>\n      <td>-0.557494</td>\n      <td>5.225579e-16</td>\n      <td>5.555657e-101</td>\n      <td>-1.385378</td>\n    </tr>\n    <tr>\n      <th>HCW_0006_BL_S4</th>\n      <td>-0.566230</td>\n      <td>-0.669222</td>\n      <td>9.390012e-01</td>\n      <td>3.075245e-91</td>\n      <td>-0.107193</td>\n      <td>-0.723227</td>\n      <td>1.839061e-07</td>\n      <td>2.011206e-03</td>\n      <td>0.054005</td>\n    </tr>\n    <tr>\n      <th>...</th>\n      <td>...</td>\n      <td>...</td>\n      <td>...</td>\n      <td>...</td>\n      <td>...</td>\n      <td>...</td>\n      <td>...</td>\n      <td>...</td>\n      <td>...</td>\n    </tr>\n    <tr>\n      <th>HCW_0373_6M_S16</th>\n      <td>-1.329492</td>\n      <td>-0.214347</td>\n      <td>2.389675e-151</td>\n      <td>1.674796e-295</td>\n      <td>-1.274756</td>\n      <td>-0.590371</td>\n      <td>1.520556e-67</td>\n      <td>5.363219e-176</td>\n      <td>0.376024</td>\n    </tr>\n    <tr>\n      <th>HCW_0373_BL_S7</th>\n      <td>-1.107740</td>\n      <td>0.286118</td>\n      <td>6.954020e-04</td>\n      <td>2.203882e-196</td>\n      <td>-0.611476</td>\n      <td>-0.843444</td>\n      <td>1.250371e-07</td>\n      <td>3.805811e-39</td>\n      <td>1.129562</td>\n    </tr>\n    <tr>\n      <th>HCW_0373_FUP1_S11</th>\n      <td>-0.669855</td>\n      <td>0.330637</td>\n      <td>8.326827e-81</td>\n      <td>2.015732e-85</td>\n      <td>-0.908012</td>\n      <td>0.354467</td>\n      <td>1.916879e-99</td>\n      <td>2.404894e-100</td>\n      <td>-0.023830</td>\n    </tr>\n    <tr>\n      <th>HCW_0373_FUP3_S16</th>\n      <td>-0.849990</td>\n      <td>-0.120086</td>\n      <td>7.950372e-230</td>\n      <td>6.505278e-202</td>\n      <td>-0.537629</td>\n      <td>-0.347038</td>\n      <td>1.143495e-300</td>\n      <td>3.103270e-52</td>\n      <td>0.226952</td>\n    </tr>\n    <tr>\n      <th>HCW_0389_BL_S8</th>\n      <td>0.338137</td>\n      <td>1.735766</td>\n      <td>2.496389e-01</td>\n      <td>6.019282e-11</td>\n      <td>0.192800</td>\n      <td>1.136649</td>\n      <td>1.139851e-04</td>\n      <td>2.923597e-03</td>\n      <td>0.599118</td>\n    </tr>\n  </tbody>\n</table>\n<p>172 rows × 9 columns</p>\n</div>"
     },
     "execution_count": 33,
     "metadata": {},
     "output_type": "execute_result"
    }
   ],
   "source": [
    "full_states_table = states_pipeline.full_R_SI_score_pipeline(expression_table,control_individuals)\n",
    "full_states_table"
   ],
   "metadata": {
    "collapsed": false,
    "pycharm": {
     "name": "#%%\n"
    }
   }
  }
 ],
 "metadata": {
  "kernelspec": {
   "display_name": "Python 3",
   "language": "python",
   "name": "python3"
  },
  "language_info": {
   "codemirror_mode": {
    "name": "ipython",
    "version": 2
   },
   "file_extension": ".py",
   "mimetype": "text/x-python",
   "name": "python",
   "nbconvert_exporter": "python",
   "pygments_lexer": "ipython2",
   "version": "2.7.6"
  }
 },
 "nbformat": 4,
 "nbformat_minor": 0
}
